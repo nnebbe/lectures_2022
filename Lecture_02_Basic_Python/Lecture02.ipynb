{
 "cells": [
  {
   "cell_type": "markdown",
   "metadata": {},
   "source": [
    "# Basic Python\n",
    "Thanks to **Rüdiger Busche**, **Christoph Stenkamp** and **Philipp Thölke** who created the lecture in 2020:<br>\n",
    "https://github.com/scientificprogrammingUOS/lectures\n",
    "which we base our content upon."
   ]
  },
  {
   "cell_type": "markdown",
   "metadata": {},
   "source": [
    "## Printing things(objects)\n",
    "We can print objects using the `print` function"
   ]
  },
  {
   "cell_type": "code",
   "execution_count": null,
   "metadata": {},
   "outputs": [],
   "source": [
    "print(\"Hi\")\n",
    "print(1)\n",
    "print(True)\n",
    "\n",
    "\"hallo das ist eine änderung0\"\n",
    "\n",
    "\"änderung die nur in normans branch ist\"\n",
    "\n",
    "\"master branch änderung\""
   ]
  },
  {
   "cell_type": "markdown",
   "metadata": {},
   "source": [
    "we can also`print` our own objects "
   ]
  },
  {
   "cell_type": "code",
   "execution_count": null,
   "metadata": {},
   "outputs": [],
   "source": [
    "class Cat:\n",
    "    def __init__(self, color):\n",
    "        self.color = color\n",
    "    \n",
    "    def __str__(self):\n",
    "        return self.color + \" cat\"\n",
    "    "
   ]
  },
  {
   "cell_type": "markdown",
   "metadata": {},
   "source": [
    "but without overriding `__str__`, `print` will ony return the type and memory adress of the object"
   ]
  },
  {
   "cell_type": "code",
   "execution_count": null,
   "metadata": {},
   "outputs": [],
   "source": [
    "my_cat = Cat(\"blue\")\n",
    "print(my_cat)"
   ]
  },
  {
   "cell_type": "markdown",
   "metadata": {},
   "source": [
    "That is because internally `print` always calls the `str`-function which in turn will call `__str__`.<br>\n",
    "So the following two lines are equivalent."
   ]
  },
  {
   "cell_type": "code",
   "execution_count": null,
   "metadata": {},
   "outputs": [],
   "source": [
    "print(1)\n",
    "print(str(1))"
   ]
  },
  {
   "cell_type": "markdown",
   "metadata": {
    "jp-MarkdownHeadingCollapsed": true,
    "tags": []
   },
   "source": [
    "So we can print objects with the `print` function, but what are objects in Python.<br>\n",
    "Well, **in Python everything is an object**. Even functions are objects."
   ]
  },
  {
   "cell_type": "code",
   "execution_count": null,
   "metadata": {},
   "outputs": [],
   "source": [
    "print(type(print))"
   ]
  },
  {
   "cell_type": "markdown",
   "metadata": {},
   "source": [
    "## Basic types\n",
    "This also holds for Pythons basic types: **integers, floats, strings, and booleans**."
   ]
  },
  {
   "cell_type": "markdown",
   "metadata": {},
   "source": [
    "*An integer.*"
   ]
  },
  {
   "cell_type": "code",
   "execution_count": null,
   "metadata": {},
   "outputs": [],
   "source": [
    "-1"
   ]
  },
  {
   "cell_type": "markdown",
   "metadata": {},
   "source": [
    "*A floating point number (float).*"
   ]
  },
  {
   "cell_type": "code",
   "execution_count": null,
   "metadata": {},
   "outputs": [],
   "source": [
    "2.567"
   ]
  },
  {
   "cell_type": "markdown",
   "metadata": {},
   "source": [
    "*A boolean.*"
   ]
  },
  {
   "cell_type": "code",
   "execution_count": null,
   "metadata": {},
   "outputs": [],
   "source": [
    "True, False"
   ]
  },
  {
   "cell_type": "code",
   "execution_count": null,
   "metadata": {},
   "outputs": [],
   "source": [
    "isinstance(1, object), isinstance(2.0, object), isinstance(True, object), "
   ]
  },
  {
   "cell_type": "markdown",
   "metadata": {},
   "source": [
    "Because the basic types are objects they come with methods, so they provide us with different functions.<br>\n",
    "Even integers have a lot of methods which we can check with `dir`.\n",
    "\n",
    "Most of these methods are dunder methods (**d**ouble **under**) which determine the types behaviour for built-in operators and functions.<br>\n",
    "For example `+` which will call `__add__`"
   ]
  },
  {
   "cell_type": "code",
   "execution_count": null,
   "metadata": {},
   "outputs": [],
   "source": [
    "(1).__add__(1)"
   ]
  },
  {
   "cell_type": "markdown",
   "metadata": {},
   "source": [
    "is the same as"
   ]
  },
  {
   "cell_type": "code",
   "execution_count": null,
   "metadata": {},
   "outputs": [],
   "source": [
    "1+1"
   ]
  },
  {
   "cell_type": "code",
   "execution_count": null,
   "metadata": {},
   "outputs": [],
   "source": [
    "dir(1)"
   ]
  },
  {
   "cell_type": "markdown",
   "metadata": {},
   "source": [
    "<br>\n",
    "<br>\n",
    "\n",
    "Besides the numeric types (int, float) and booleans we also have **strings**, which you might remember from printing `\"hello world\"`\n",
    "\n",
    "We can create **strings** by putting our text into double quotes. "
   ]
  },
  {
   "cell_type": "code",
   "execution_count": null,
   "metadata": {},
   "outputs": [],
   "source": [
    "\"hello world\""
   ]
  },
  {
   "cell_type": "markdown",
   "metadata": {},
   "source": [
    "We can exchange or even add double quotes to single quotes, as long as we dont mix them"
   ]
  },
  {
   "cell_type": "code",
   "execution_count": null,
   "metadata": {},
   "outputs": [],
   "source": [
    "'hello world'"
   ]
  },
  {
   "cell_type": "code",
   "execution_count": null,
   "metadata": {},
   "outputs": [],
   "source": [
    "\"'hello world'\""
   ]
  },
  {
   "cell_type": "code",
   "execution_count": null,
   "metadata": {},
   "outputs": [],
   "source": [
    "\"hellp world'"
   ]
  },
  {
   "cell_type": "markdown",
   "metadata": {},
   "source": [
    "If we want our string to cointain both single and double quotes we can make use of triple quotes.\n",
    "This also allows us to include line breaks"
   ]
  },
  {
   "cell_type": "code",
   "execution_count": null,
   "metadata": {},
   "outputs": [],
   "source": [
    "a = \"\"\"\n",
    "    hello\n",
    "    \"'world'\"\n",
    "    \"\"\"\n",
    "print(a)"
   ]
  },
  {
   "cell_type": "markdown",
   "metadata": {},
   "source": [
    "<br>\n",
    "<br>\n",
    "\n",
    "## Variables"
   ]
  },
  {
   "cell_type": "markdown",
   "metadata": {},
   "source": [
    "So far our objects or data were kind of hanging in the air. Maybe we printed them once but then they were gone. <br>\n",
    "To get a hold of them and do some actual programming with them, we give them names.\n",
    "\n",
    "These names we can then use to refer to the objects\n",
    "\n",
    "So when we write"
   ]
  },
  {
   "cell_type": "code",
   "execution_count": null,
   "metadata": {},
   "outputs": [],
   "source": [
    "a = 1"
   ]
  },
  {
   "cell_type": "markdown",
   "metadata": {},
   "source": [
    "we can think of naming our integer `a`<br>\n",
    "and now we can call `a` wherever we want"
   ]
  },
  {
   "cell_type": "code",
   "execution_count": null,
   "metadata": {},
   "outputs": [],
   "source": [
    "print(a)"
   ]
  },
  {
   "cell_type": "markdown",
   "metadata": {},
   "source": [
    "We cannot only assign objects to variables(names) but also variables to variables"
   ]
  },
  {
   "cell_type": "code",
   "execution_count": null,
   "metadata": {},
   "outputs": [],
   "source": [
    "b = a\n",
    "print(b)"
   ]
  },
  {
   "cell_type": "markdown",
   "metadata": {},
   "source": [
    "what happens is that we give our object a second name, \n",
    "so there are now two variables that refer to the same object.\n",
    "<br>\n",
    "<br>\n",
    "what if we know \"change\" our object"
   ]
  },
  {
   "cell_type": "code",
   "execution_count": null,
   "metadata": {},
   "outputs": [],
   "source": [
    "a = 2"
   ]
  },
  {
   "cell_type": "markdown",
   "metadata": {},
   "source": [
    "will that also effect b?"
   ]
  },
  {
   "cell_type": "code",
   "execution_count": null,
   "metadata": {},
   "outputs": [],
   "source": [
    "print(b)"
   ]
  },
  {
   "cell_type": "markdown",
   "metadata": {},
   "source": [
    "No, because we dont actually change the original object `1`. <br>\n",
    "We just create a new object `2` and give it the name `a` of the original object `1`.\n",
    "\n",
    "Because we gave our object `1` a second name `b` we can still call it by that name"
   ]
  },
  {
   "cell_type": "markdown",
   "metadata": {},
   "source": [
    "but if we also give that name to another object `\"now a string\"`, then the object `1` is lost.<br>\n",
    "And it will eventually be collected by the garbage collector (not a metapher)."
   ]
  },
  {
   "cell_type": "code",
   "execution_count": null,
   "metadata": {},
   "outputs": [],
   "source": [
    "b = \"now a string\""
   ]
  },
  {
   "cell_type": "markdown",
   "metadata": {},
   "source": [
    "## Typing"
   ]
  },
  {
   "cell_type": "markdown",
   "metadata": {},
   "source": [
    "In the previous section we already saw pythons typing in action when we \"changed\" the type of our variable.<br>\n",
    "Because we can \"change\" the types of our variables dynamically we say that Python is **dynamically typed**.\n",
    "\n",
    "We can check the type of an object with `type`"
   ]
  },
  {
   "cell_type": "code",
   "execution_count": null,
   "metadata": {},
   "outputs": [],
   "source": [
    "var = 2\n",
    "print(type(var))\n",
    "\n",
    "var = \"two\"\n",
    "print(type(var))\n",
    "\n",
    "var = False\n",
    "print(type(var))"
   ]
  },
  {
   "cell_type": "markdown",
   "metadata": {},
   "source": [
    "We also say that Python is **strongly typed** because the actual objects dont change their type\n",
    "<br>\n",
    "<br>\n",
    "<br>\n",
    "<br>"
   ]
  },
  {
   "cell_type": "markdown",
   "metadata": {},
   "source": [
    "## PEP 8 Naming conventions\n",
    "[PEP 8](https://www.python.org/dev/peps/pep-0008/), i.e. the Python Enhancement Proposal number 8, is a style guide for writing Python code. Having an official style guide makes Python code look really similar across different projects. It's role in the success of Python should not be underestimated. If you are unsure about the style of your code, have a look at PEP 8. And here are the PEP 8 recommendations for variable names:  \n",
    "\n",
    "`module_name, package_name, method_name, function_name, global_var_name, instance_var_name, function_parameter_name, local_var_name`\n",
    "\n",
    "`ClassName, ExceptionName`\n",
    "\n",
    "`GLOBAL_CONSTANT_NAME`\n",
    "<br>\n",
    "<br>\n",
    "<br>"
   ]
  },
  {
   "cell_type": "markdown",
   "metadata": {},
   "source": [
    "## Basic Operators\n",
    "So far we have learned how to create basic data types how to print them and how to assign them to variables.<br>\n",
    "In this section we will cover what we can do with them\n"
   ]
  },
  {
   "cell_type": "markdown",
   "metadata": {},
   "source": [
    "### numeric operators\n",
    "everything works like we would expect"
   ]
  },
  {
   "cell_type": "code",
   "execution_count": null,
   "metadata": {},
   "outputs": [],
   "source": [
    "a = 2\n",
    "b = 3\n",
    "\n",
    "print('a + b = ', a + b)\n",
    "print('a - b = ', a - b)\n",
    "print('a * b = ', a * b)\n",
    "print('a ** b = ', a ** b)  # a to the power of b (a^b is a bit-wise XOR!)\n",
    "print('a / b = ', a / b)\n",
    "print('a // b = ', a // b)  # Floor division \n",
    "print('b % a = ', b % a)    # Modulo operator (divide, return remainder)"
   ]
  },
  {
   "cell_type": "markdown",
   "metadata": {},
   "source": [
    "One thing to note is that the type of result may differ from the input"
   ]
  },
  {
   "cell_type": "code",
   "execution_count": null,
   "metadata": {},
   "outputs": [],
   "source": [
    "print(type(a), type(b), type(a / b))"
   ]
  },
  {
   "cell_type": "markdown",
   "metadata": {},
   "source": [
    "<br>\n",
    "\n",
    "### string operators\n",
    "the operators also work quite intuitivly"
   ]
  },
  {
   "cell_type": "code",
   "execution_count": null,
   "metadata": {},
   "outputs": [],
   "source": [
    "'hello' + 'world'"
   ]
  },
  {
   "cell_type": "code",
   "execution_count": null,
   "metadata": {},
   "outputs": [],
   "source": [
    "'hello' * 3"
   ]
  },
  {
   "cell_type": "markdown",
   "metadata": {},
   "source": [
    "what does not work is multiplying strings with floats or dividing them"
   ]
  },
  {
   "cell_type": "code",
   "execution_count": null,
   "metadata": {},
   "outputs": [],
   "source": [
    "'hello' * 1.5"
   ]
  },
  {
   "cell_type": "code",
   "execution_count": null,
   "metadata": {},
   "outputs": [],
   "source": [
    "'hello' / 3"
   ]
  },
  {
   "cell_type": "markdown",
   "metadata": {},
   "source": [
    "<br>\n",
    "\n",
    "### boolean operators\n",
    "can be used to compare two things"
   ]
  },
  {
   "cell_type": "code",
   "execution_count": null,
   "metadata": {},
   "outputs": [],
   "source": [
    "a = 2\n",
    "b = 3\n",
    "\n",
    "print('a > b ?', a > b)\n",
    "print('a >= b ?', a >= b)\n",
    "print('a == b ?', a == b)\n",
    "print('a != b ?', a != b)\n",
    "print('a < b ?', a < b)\n",
    "print('a <= b ?', a <= b)"
   ]
  },
  {
   "cell_type": "markdown",
   "metadata": {},
   "source": [
    "and we can also use them to perform logical operations on booleans"
   ]
  },
  {
   "cell_type": "code",
   "execution_count": null,
   "metadata": {},
   "outputs": [],
   "source": [
    "a = (1 > 3)\n",
    "b = 3 == 3\n",
    "print(a)\n",
    "print(b)\n",
    "\n",
    "print(a or b)\n",
    "print(a and b)\n",
    "print(not b)\n",
    "\n",
    "#There is also | and &, which are equal for booleans, but different for numbers (work on binary level)"
   ]
  },
  {
   "cell_type": "markdown",
   "metadata": {},
   "source": [
    "<br>\n",
    "\n",
    "### is\n",
    "The `is` operator also compares \"two\" objects and it checks if they are identical.\n",
    "So if the two variables refer to the same object"
   ]
  },
  {
   "cell_type": "code",
   "execution_count": null,
   "metadata": {},
   "outputs": [],
   "source": [
    "a = 300\n",
    "b = 300\n",
    "print(a is b)"
   ]
  },
  {
   "cell_type": "code",
   "execution_count": null,
   "metadata": {},
   "outputs": [],
   "source": [
    "b = a\n",
    "print(a is b)"
   ]
  },
  {
   "cell_type": "markdown",
   "metadata": {},
   "source": [
    "internally it checks for the objects ids/memory adresses"
   ]
  },
  {
   "cell_type": "code",
   "execution_count": null,
   "metadata": {},
   "outputs": [],
   "source": [
    "print(id(a))\n",
    "print(id(b))"
   ]
  },
  {
   "cell_type": "markdown",
   "metadata": {},
   "source": [
    "<br>\n",
    "\n",
    "this `id` also appeared when we printed our cat"
   ]
  },
  {
   "cell_type": "code",
   "execution_count": null,
   "metadata": {},
   "outputs": [],
   "source": [
    "class Cat:\n",
    "    def __init__(self, color):\n",
    "        self.color = color\n",
    "    \n",
    "    #def __str__(self):\n",
    "    #    return self.color + \" cat\""
   ]
  },
  {
   "cell_type": "code",
   "execution_count": null,
   "metadata": {},
   "outputs": [],
   "source": [
    "my_cat = Cat(\"green\")\n",
    "print(my_cat)"
   ]
  },
  {
   "cell_type": "code",
   "execution_count": null,
   "metadata": {},
   "outputs": [],
   "source": [
    "print(hex(id(my_cat)))"
   ]
  },
  {
   "cell_type": "markdown",
   "metadata": {},
   "source": [
    "# Functions and Methods\n",
    "\n",
    "These will be very familiar to anyone who has programmed in any language, and work like you\n",
    "would expect."
   ]
  },
  {
   "cell_type": "code",
   "execution_count": null,
   "metadata": {
    "collapsed": false,
    "jupyter": {
     "outputs_hidden": false
    }
   },
   "outputs": [],
   "source": [
    "# There are thousands of functions that operate on things.\n",
    "print(type(3))\n",
    "print(len('hello'))\n",
    "print(round(3.3))"
   ]
  },
  {
   "cell_type": "markdown",
   "metadata": {},
   "source": [
    "__TIP:__ To find out what a function does, you can type it's name and then a question mark to\n",
    "get some information. Or, to see what arguments it takes, you can type its name, an open\n",
    "parenthesis, and hit shift-tab."
   ]
  },
  {
   "cell_type": "code",
   "execution_count": null,
   "metadata": {
    "collapsed": false,
    "jupyter": {
     "outputs_hidden": false
    }
   },
   "outputs": [],
   "source": [
    "round()"
   ]
  },
  {
   "cell_type": "code",
   "execution_count": null,
   "metadata": {
    "collapsed": false,
    "jupyter": {
     "outputs_hidden": false
    }
   },
   "outputs": [],
   "source": [
    "round(3.14159, 2)"
   ]
  },
  {
   "cell_type": "markdown",
   "metadata": {},
   "source": [
    "In Python, **functions are first-class objects!**"
   ]
  },
  {
   "cell_type": "code",
   "execution_count": null,
   "metadata": {},
   "outputs": [],
   "source": [
    "a_function = print\n",
    "a_function(\"Hello, world!\")\n",
    "print(\"What it is:\", a_function)\n",
    "print(\"type:\", type(a_function))"
   ]
  },
  {
   "cell_type": "code",
   "execution_count": null,
   "metadata": {
    "collapsed": false,
    "jupyter": {
     "outputs_hidden": false
    }
   },
   "outputs": [],
   "source": [
    "def do_something_to_number(number, what):\n",
    "    print(what(number))\n",
    "    \n",
    "print(\"Doing round:\")\n",
    "do_something_to_number(-3.15, round)\n",
    "print(\"Doing abs\")\n",
    "do_something_to_number(-3.15, abs)"
   ]
  },
  {
   "cell_type": "markdown",
   "metadata": {},
   "source": [
    "## .methods()\n",
    "\n",
    "\n",
    "\n",
    "In the simplest terms, you can think of an object as a containing both data and behavior, i.e. functions that operate on that data. For example, strings in Python are\n",
    "objects that contain a set of characters and also various functions that operate on the set of\n",
    "characters. When bundled in an object, these functions are called \"methods\".\n",
    "\n",
    "Instead of the \"normal\" `function(arguments)` syntax, methods are called using the\n",
    "syntax `object.method(arguments)`."
   ]
  },
  {
   "cell_type": "code",
   "execution_count": null,
   "metadata": {
    "collapsed": false,
    "jupyter": {
     "outputs_hidden": false
    }
   },
   "outputs": [],
   "source": [
    "# A string is actually an object\n",
    "a = 'hello, world'\n",
    "b = 5\n",
    "print(a, type(a))\n",
    "print(b, type(b))"
   ]
  },
  {
   "cell_type": "code",
   "execution_count": null,
   "metadata": {
    "collapsed": false,
    "jupyter": {
     "outputs_hidden": false
    }
   },
   "outputs": [],
   "source": [
    "# Objects have bundled methods\n",
    "print(a.capitalize())\n",
    "print(a.replace('l', 'X'))\n",
    "print(a.lower())\n",
    "print(a.upper())\n",
    "print(a.isnumeric())\n",
    "print(a.isalpha()) \n",
    "print(a.isalnum())"
   ]
  },
  {
   "cell_type": "code",
   "execution_count": null,
   "metadata": {
    "collapsed": false,
    "jupyter": {
     "outputs_hidden": false
    }
   },
   "outputs": [],
   "source": [
    "dir(\"\") # again, ignore the ones with double-underscores for now"
   ]
  },
  {
   "cell_type": "code",
   "execution_count": null,
   "metadata": {},
   "outputs": [],
   "source": [
    "\"\".isalpha"
   ]
  },
  {
   "cell_type": "code",
   "execution_count": null,
   "metadata": {
    "collapsed": false,
    "jupyter": {
     "outputs_hidden": false
    }
   },
   "outputs": [],
   "source": [
    "help(\"\".isalpha)"
   ]
  },
  {
   "cell_type": "code",
   "execution_count": null,
   "metadata": {
    "collapsed": false,
    "jupyter": {
     "outputs_hidden": false
    }
   },
   "outputs": [],
   "source": [
    "# Integers do not have .capitalize() method\n",
    "b.capitalize() # fails"
   ]
  },
  {
   "cell_type": "markdown",
   "metadata": {},
   "source": [
    "# Collections\n",
    "\n",
    "Python provides us with a number of objects to handle collections of objects.\n",
    "\n",
    "Python has four built-in collections times that accomodate almost all use cases: \n",
    "*`lists`, `tuples`, `dictionaries`, and `sets`*. "
   ]
  },
  {
   "cell_type": "markdown",
   "metadata": {},
   "source": [
    "## Lists\n",
    "\n",
    "Lists are probably the handiest and most flexible type of container. \n",
    "\n",
    "Lists literals are declared with square brackets `[]`. \n",
    "\n"
   ]
  },
  {
   "cell_type": "code",
   "execution_count": null,
   "metadata": {
    "collapsed": false,
    "jupyter": {
     "outputs_hidden": false
    }
   },
   "outputs": [],
   "source": [
    "# Lists are created with square bracket syntax\n",
    "a = ['blueberry', 'strawberry', 'pineapple']\n",
    "print(a, type(a))"
   ]
  },
  {
   "cell_type": "code",
   "execution_count": null,
   "metadata": {
    "collapsed": false,
    "jupyter": {
     "outputs_hidden": false
    }
   },
   "outputs": [],
   "source": [
    "# It doesn't matter what types are inside the list!\n",
    "tmp = object()\n",
    "b = ['blueberry', 5, 3.1415, True, \"hello world\", [1,2,3], tmp]\n",
    "print(b)"
   ]
  },
  {
   "cell_type": "markdown",
   "metadata": {},
   "source": [
    "Individual elements of a list can be selected using the subscript syntax `a[ind]`.\n"
   ]
  },
  {
   "cell_type": "code",
   "execution_count": null,
   "metadata": {
    "collapsed": false,
    "jupyter": {
     "outputs_hidden": false
    }
   },
   "outputs": [],
   "source": [
    "# Lists (and all collections) are also indexed with square brackets\n",
    "# NOTE: The first index is zero, not one\n",
    "print(a[0])\n",
    "print(a[1])"
   ]
  },
  {
   "cell_type": "code",
   "execution_count": null,
   "metadata": {
    "collapsed": false,
    "jupyter": {
     "outputs_hidden": false
    }
   },
   "outputs": [],
   "source": [
    "## You can also count from the end of the list\n",
    "print('last item is:', a[-1])\n",
    "print('second to last item is:', a[-2])"
   ]
  },
  {
   "cell_type": "markdown",
   "metadata": {},
   "source": [
    "## Slicing\n",
    "You can access multiple items from a list by slicing, using a colon between indexes. The syntax is `collection[start:stop]` or `collection[start:stop:step]`. Note that in Python indexing is zero based the first index is inclusive while the last is exclusive. That means that `start:stop` selects $start \\le i \\lt stop$."
   ]
  },
  {
   "cell_type": "code",
   "execution_count": null,
   "metadata": {
    "collapsed": false,
    "jupyter": {
     "outputs_hidden": false
    }
   },
   "outputs": [],
   "source": [
    "b = [0, 1, 2, 3, 4, 5, 6, 7, 8, 9]\n",
    "b"
   ]
  },
  {
   "cell_type": "code",
   "execution_count": null,
   "metadata": {
    "collapsed": false,
    "jupyter": {
     "outputs_hidden": false
    }
   },
   "outputs": [],
   "source": [
    "b[0:2]"
   ]
  },
  {
   "cell_type": "code",
   "execution_count": null,
   "metadata": {
    "collapsed": false,
    "jupyter": {
     "outputs_hidden": false
    }
   },
   "outputs": [],
   "source": [
    "b[2:]"
   ]
  },
  {
   "cell_type": "code",
   "execution_count": null,
   "metadata": {
    "collapsed": false,
    "jupyter": {
     "outputs_hidden": false
    }
   },
   "outputs": [],
   "source": [
    "b[:] # this is called soft copy, we'll get to that later\n",
    "b is b[:]"
   ]
  },
  {
   "cell_type": "code",
   "execution_count": null,
   "metadata": {
    "collapsed": false,
    "jupyter": {
     "outputs_hidden": false
    }
   },
   "outputs": [],
   "source": [
    "b[:-1]"
   ]
  },
  {
   "cell_type": "code",
   "execution_count": null,
   "metadata": {
    "collapsed": false,
    "jupyter": {
     "outputs_hidden": false
    }
   },
   "outputs": [],
   "source": [
    "b[2:8:2]"
   ]
  },
  {
   "cell_type": "code",
   "execution_count": null,
   "metadata": {},
   "outputs": [],
   "source": [
    "b[::-1]"
   ]
  },
  {
   "cell_type": "markdown",
   "metadata": {},
   "source": [
    "### Exercise\n",
    "Get all numbers divisible by 3 from list `b`."
   ]
  },
  {
   "cell_type": "code",
   "execution_count": null,
   "metadata": {
    "cell_type": "solution"
   },
   "outputs": [],
   "source": [
    "b[3::3]"
   ]
  },
  {
   "cell_type": "markdown",
   "metadata": {},
   "source": [
    "## Manipulating lists"
   ]
  },
  {
   "cell_type": "markdown",
   "metadata": {},
   "source": [
    "Lists are objects, like everything else, and have methods such as `append`. `append` adds the the value as the last element to the list."
   ]
  },
  {
   "cell_type": "code",
   "execution_count": null,
   "metadata": {
    "collapsed": false,
    "jupyter": {
     "outputs_hidden": false
    }
   },
   "outputs": [],
   "source": [
    "b.append('banana')\n",
    "b"
   ]
  },
  {
   "cell_type": "code",
   "execution_count": null,
   "metadata": {
    "collapsed": false,
    "jupyter": {
     "outputs_hidden": false
    }
   },
   "outputs": [],
   "source": [
    "b.append([1,2])\n",
    "b.append(len)\n",
    "print(b)"
   ]
  },
  {
   "cell_type": "code",
   "execution_count": null,
   "metadata": {
    "collapsed": false,
    "jupyter": {
     "outputs_hidden": false
    }
   },
   "outputs": [],
   "source": [
    "popped = b.pop()\n",
    "b, popped"
   ]
  },
  {
   "cell_type": "code",
   "execution_count": null,
   "metadata": {
    "collapsed": false,
    "jupyter": {
     "outputs_hidden": false
    }
   },
   "outputs": [],
   "source": [
    "# In case you were wondering how to add multiples:\n",
    "b.extend([1,2])\n",
    "b"
   ]
  },
  {
   "cell_type": "markdown",
   "metadata": {},
   "source": [
    "Lists have the same operators as strings:"
   ]
  },
  {
   "cell_type": "code",
   "execution_count": null,
   "metadata": {
    "collapsed": false,
    "jupyter": {
     "outputs_hidden": false
    }
   },
   "outputs": [],
   "source": [
    "l1 = [1, 2, 3]\n",
    "l2 = [4] * 3\n",
    "\n",
    "l1 + l2"
   ]
  },
  {
   "cell_type": "markdown",
   "metadata": {},
   "source": [
    "Get the lenght of a list using the function `len`."
   ]
  },
  {
   "cell_type": "code",
   "execution_count": null,
   "metadata": {
    "collapsed": false,
    "jupyter": {
     "outputs_hidden": false
    }
   },
   "outputs": [],
   "source": [
    "len(b)"
   ]
  },
  {
   "cell_type": "code",
   "execution_count": null,
   "metadata": {
    "collapsed": false,
    "jupyter": {
     "outputs_hidden": false
    }
   },
   "outputs": [],
   "source": [
    "# Strings can be sliced just like lists\n",
    "a = \"hello, world!\"\n",
    "a[:5]"
   ]
  },
  {
   "cell_type": "markdown",
   "metadata": {},
   "source": [
    "__TIP:__ A 'gotcha' for some new Python users is that collections, including lists, are actually only the name, refreencing to data, and are not the data itself.\n",
    "\n",
    "Remember when we set `b = a` and then changed `a`?\n",
    "\n",
    "What happens when we do this in a list?\n"
   ]
  },
  {
   "cell_type": "code",
   "execution_count": null,
   "metadata": {},
   "outputs": [],
   "source": [
    "a = [1, 2, \"banana\", 3]\n",
    "b = a\n",
    "print(\"b originally:\", b)\n",
    "a[0] = \"cheesecake\"\n",
    "print(\"b later:\", b)"
   ]
  },
  {
   "cell_type": "markdown",
   "metadata": {},
   "source": [
    "Because lists are **mutable**, we can perform changes to a list, unlike a string! To get rid of side-effects, you need to perform a **deep copy** of the object."
   ]
  },
  {
   "cell_type": "code",
   "execution_count": null,
   "metadata": {
    "collapsed": false,
    "jupyter": {
     "outputs_hidden": false
    }
   },
   "outputs": [],
   "source": [
    "# the copy-module helps us here!\n",
    "from copy import deepcopy\n",
    "a = [1, 2, \"banana\", 3]\n",
    "b = deepcopy(a)  #in the case of lists, an alternative ('soft copy') would be b = a[:]\n",
    "a[0] = \"cheesecake\"\n",
    "print(b)"
   ]
  },
  {
   "cell_type": "markdown",
   "metadata": {},
   "source": [
    "Another problem arises when adding objects to list, using the multiplication syntax"
   ]
  },
  {
   "cell_type": "code",
   "execution_count": null,
   "metadata": {
    "collapsed": false,
    "jupyter": {
     "outputs_hidden": false
    }
   },
   "outputs": [],
   "source": [
    "l2 = [[]] * 10\n",
    "print(l2)\n",
    "\n",
    "l2[0].append(1)\n",
    "print(l2) #what will this print?"
   ]
  },
  {
   "cell_type": "markdown",
   "metadata": {},
   "source": [
    ".   \n",
    "  To check if a list contains a value, the **in**-operator is used."
   ]
  },
  {
   "cell_type": "code",
   "execution_count": null,
   "metadata": {
    "collapsed": false,
    "jupyter": {
     "outputs_hidden": false
    }
   },
   "outputs": [],
   "source": [
    "\"banana\" in a"
   ]
  },
  {
   "cell_type": "markdown",
   "metadata": {},
   "source": [
    "### Exercise - what will this return?"
   ]
  },
  {
   "cell_type": "code",
   "execution_count": null,
   "metadata": {},
   "outputs": [],
   "source": [
    "some_guy = 'Fred'\n",
    "\n",
    "first_names = []\n",
    "first_names.append(some_guy)\n",
    "\n",
    "another_list_of_names = first_names\n",
    "another_list_of_names.append('George')\n",
    "some_guy = 'Bill'"
   ]
  },
  {
   "cell_type": "code",
   "execution_count": null,
   "metadata": {
    "cell_type": "solution"
   },
   "outputs": [],
   "source": [
    "print(some_guy, first_names, another_list_of_names)"
   ]
  },
  {
   "cell_type": "markdown",
   "metadata": {},
   "source": [
    "## Tuples\n",
    "\n",
    "We won't say a whole lot about tuples except to mention that they basically work just like lists, with\n",
    "two major exceptions:\n",
    "\n",
    "1. You declare tuples using commas, but usually also () instead of []\n",
    "1. Once you make a tuple, you can't change what's in it (__immutable__)\n",
    "\n",
    "You'll see tuples come up throughout the Python language, and over time you'll develop a feel for when\n",
    "to use them. \n",
    "\n",
    "In general, they're often used instead of lists:\n",
    "\n",
    "1. to group items when the position in the collection is critical, such as coord = (x,y)\n",
    "1. when you want to make prevent accidental modification of the items, e.g. shape = (12,23)"
   ]
  },
  {
   "cell_type": "code",
   "execution_count": null,
   "metadata": {
    "collapsed": false,
    "jupyter": {
     "outputs_hidden": false
    }
   },
   "outputs": [],
   "source": [
    "x = 1, 2, 3\n",
    "x"
   ]
  },
  {
   "cell_type": "code",
   "execution_count": null,
   "metadata": {
    "collapsed": false,
    "jupyter": {
     "outputs_hidden": false
    }
   },
   "outputs": [],
   "source": [
    "y = (1, 2, 3)\n",
    "print(y)\n",
    "print(y == x)\n",
    "y[0] = \"hello\""
   ]
  },
  {
   "cell_type": "code",
   "execution_count": null,
   "metadata": {
    "collapsed": false,
    "jupyter": {
     "outputs_hidden": false
    }
   },
   "outputs": [],
   "source": [
    "xy = (23, 45)\n",
    "print(xy[0])\n",
    "xy[0] = \"this won't work with a tuple\""
   ]
  },
  {
   "cell_type": "markdown",
   "metadata": {},
   "source": [
    "## namedtuples\n",
    "\n",
    "Very handy for defining human readable data records without behavior. `namedtuples` are very fast and memory efficient. "
   ]
  },
  {
   "cell_type": "code",
   "execution_count": null,
   "metadata": {
    "collapsed": false,
    "jupyter": {
     "outputs_hidden": false
    }
   },
   "outputs": [],
   "source": [
    "from collections import namedtuple"
   ]
  },
  {
   "cell_type": "code",
   "execution_count": null,
   "metadata": {
    "collapsed": false,
    "jupyter": {
     "outputs_hidden": false
    }
   },
   "outputs": [],
   "source": [
    "Color = namedtuple('Color', ['red', 'green', 'blue'])\n",
    "Color?"
   ]
  },
  {
   "cell_type": "code",
   "execution_count": null,
   "metadata": {
    "collapsed": false,
    "jupyter": {
     "outputs_hidden": false
    }
   },
   "outputs": [],
   "source": [
    "yellow = Color(255, 255, 0)"
   ]
  },
  {
   "cell_type": "code",
   "execution_count": null,
   "metadata": {
    "collapsed": false,
    "jupyter": {
     "outputs_hidden": false
    }
   },
   "outputs": [],
   "source": [
    "yellow.red, yellow[0]"
   ]
  },
  {
   "cell_type": "code",
   "execution_count": null,
   "metadata": {
    "collapsed": false,
    "jupyter": {
     "outputs_hidden": false
    }
   },
   "outputs": [],
   "source": [
    "print(yellow)"
   ]
  },
  {
   "cell_type": "markdown",
   "metadata": {},
   "source": [
    "## Dictionaries\n",
    "\n",
    "Dictionaries are the collection to use when you want to store and retrieve things by their names\n",
    "(or some other kind of key) instead of by their position in the collection. A good example is a set\n",
    "of model parameters, each of which has a name and a value. Dictionaries are declared using `{}`."
   ]
  },
  {
   "cell_type": "code",
   "execution_count": null,
   "metadata": {
    "collapsed": false,
    "jupyter": {
     "outputs_hidden": false
    }
   },
   "outputs": [],
   "source": [
    "# Make a dictionary of model parameters.\n",
    "convertors = {'inches_in_feet' : 12,\n",
    "              'inches_in_metre' : 39}\n",
    "\n",
    "print(convertors)\n",
    "print(convertors['inches_in_feet'])"
   ]
  },
  {
   "cell_type": "code",
   "execution_count": null,
   "metadata": {
    "collapsed": false,
    "jupyter": {
     "outputs_hidden": false
    }
   },
   "outputs": [],
   "source": [
    "# Add a new key:value pair.\n",
    "convertors['metres_in_mile'] = 1609.34\n",
    "print(convertors)"
   ]
  },
  {
   "cell_type": "markdown",
   "metadata": {},
   "source": [
    "The equivalent of `extend` for dictionaries is update."
   ]
  },
  {
   "cell_type": "code",
   "execution_count": null,
   "metadata": {
    "collapsed": false,
    "jupyter": {
     "outputs_hidden": false
    }
   },
   "outputs": [],
   "source": [
    "metric_convertors = {'metres_in_kilometer': 1000, 'centimetres_in_meter': 100}\n",
    "convertors.update(metric_convertors)\n",
    "convertors"
   ]
  },
  {
   "cell_type": "code",
   "execution_count": null,
   "metadata": {
    "collapsed": false,
    "jupyter": {
     "outputs_hidden": false
    }
   },
   "outputs": [],
   "source": [
    "# Raise a Key-Error\n",
    "print(convertors['decimetres_in_meter'])"
   ]
  },
  {
   "cell_type": "code",
   "execution_count": null,
   "metadata": {
    "collapsed": false,
    "jupyter": {
     "outputs_hidden": false
    }
   },
   "outputs": [],
   "source": [
    "# To check if a key is in a dictionary:\n",
    "if 'decimetres_in_meter' in convertors:\n",
    "    print(convertors['decimetres_in_meter'])\n",
    "else:\n",
    "    print(\"Wasn't in there!\")"
   ]
  },
  {
   "cell_type": "code",
   "execution_count": null,
   "metadata": {
    "collapsed": false,
    "jupyter": {
     "outputs_hidden": false
    }
   },
   "outputs": [],
   "source": [
    "# Alternatively, we can use the get-method:\n",
    "print(convertors.get('decimetres_in_meter', '<Placeholder for emptyness>'))"
   ]
  },
  {
   "cell_type": "markdown",
   "metadata": {},
   "source": [
    "### EAFP versus LBYL\n",
    "\n",
    "The first method from the cell above was a certain idiomatic practice: **\"Look Before You Leap\"**. You first check whether something will succeed and only proceed if we know it works. While the standard for most programming languages, _pythonic coding_ follows another paradigm: **\"Its easier to ask for forgiveness than permission\"**. \n",
    "https://blogs.msdn.microsoft.com/pythonengineering/2016/06/29/idiomatic-python-eafp-versus-lbyl/"
   ]
  },
  {
   "cell_type": "markdown",
   "metadata": {},
   "source": [
    "![Glossary: EAFP](eafp.png \"Glossary: EAFP\")\n",
    "\n",
    "from https://docs.python.org/3/glossary.html"
   ]
  },
  {
   "cell_type": "code",
   "execution_count": null,
   "metadata": {
    "collapsed": false,
    "jupyter": {
     "outputs_hidden": false
    }
   },
   "outputs": [],
   "source": [
    "# Same as above in EAFP.\n",
    "try:\n",
    "    print(convertors['decimetres_in_meter'])\n",
    "except KeyError:\n",
    "    print(\"Wasn't in there!\")"
   ]
  },
  {
   "cell_type": "markdown",
   "metadata": {},
   "source": [
    "Getting all keys, all values, and all key-value-pairs is easy:"
   ]
  },
  {
   "cell_type": "code",
   "execution_count": null,
   "metadata": {
    "collapsed": false,
    "jupyter": {
     "outputs_hidden": false
    }
   },
   "outputs": [],
   "source": [
    "key_list = list(convertors.keys())\n",
    "print(key_list, type(key_list))\n",
    "\n",
    "value_list = list(convertors.values())\n",
    "print(value_list, type(value_list))\n",
    "\n",
    "key_val_list = list(convertors.items())\n",
    "print(key_val_list, type(key_val_list))"
   ]
  },
  {
   "cell_type": "markdown",
   "metadata": {},
   "source": [
    "## Sets\n",
    "\n",
    "Sets are unordered collections of unique items like in mathematics. They are useful for keeping track of objects you have seen and testing membership. "
   ]
  },
  {
   "cell_type": "markdown",
   "metadata": {},
   "source": [
    "Set are declared using `{}`."
   ]
  },
  {
   "cell_type": "code",
   "execution_count": null,
   "metadata": {
    "collapsed": false,
    "jupyter": {
     "outputs_hidden": false
    }
   },
   "outputs": [],
   "source": [
    "a_set = {1, 2, 3}\n",
    "a_set"
   ]
  },
  {
   "cell_type": "markdown",
   "metadata": {},
   "source": [
    "Sets are unqiue."
   ]
  },
  {
   "cell_type": "code",
   "execution_count": null,
   "metadata": {
    "collapsed": false,
    "jupyter": {
     "outputs_hidden": false
    }
   },
   "outputs": [],
   "source": [
    "unique_set = {1, 2, 3, 3, 3, 3}\n",
    "unique_set"
   ]
  },
  {
   "cell_type": "markdown",
   "metadata": {},
   "source": [
    "Empty sets can't be declared with literals and are easily confused with empty `dicts`. Instead an explicit constructor has to be used"
   ]
  },
  {
   "cell_type": "code",
   "execution_count": null,
   "metadata": {
    "collapsed": false,
    "jupyter": {
     "outputs_hidden": false
    }
   },
   "outputs": [],
   "source": [
    "empty_set = set()\n",
    "empty_set, type(empty_set)"
   ]
  },
  {
   "cell_type": "code",
   "execution_count": null,
   "metadata": {
    "collapsed": false,
    "jupyter": {
     "outputs_hidden": false
    }
   },
   "outputs": [],
   "source": [
    "empty_dict = {}\n",
    "empty_dict, type(empty_dict)"
   ]
  },
  {
   "cell_type": "markdown",
   "metadata": {},
   "source": [
    "Set-operations are far more efficient for sets than for lists!"
   ]
  },
  {
   "cell_type": "code",
   "execution_count": null,
   "metadata": {
    "collapsed": false,
    "jupyter": {
     "outputs_hidden": false
    }
   },
   "outputs": [],
   "source": [
    "s1 = {1,2,3}\n",
    "s2 = {3,4,5}\n",
    "\n",
    "print(\"s1\", s1)\n",
    "print(\"s2\", s2)\n",
    "print(\"union\", s1 | s2) \n",
    "print(\"intersection\", s1 & s2) \n",
    "print(\"difference\", s1 - s2)\n",
    "print(\"is s1 a subset of s2?\", s1 <= s2)\n",
    "print(\"XOR\", s1 ^ s2)"
   ]
  },
  {
   "cell_type": "markdown",
   "metadata": {},
   "source": [
    "Sets are fast at membership tests."
   ]
  },
  {
   "cell_type": "code",
   "execution_count": null,
   "metadata": {
    "collapsed": false,
    "jupyter": {
     "outputs_hidden": false
    }
   },
   "outputs": [],
   "source": [
    "set_members = set(range(1000))\n",
    "list_members = list(range(1000))"
   ]
  },
  {
   "cell_type": "code",
   "execution_count": null,
   "metadata": {
    "collapsed": false,
    "jupyter": {
     "outputs_hidden": false
    }
   },
   "outputs": [],
   "source": [
    "%%timeit\n",
    "900 in set_members"
   ]
  },
  {
   "cell_type": "code",
   "execution_count": null,
   "metadata": {
    "collapsed": false,
    "jupyter": {
     "outputs_hidden": false
    }
   },
   "outputs": [],
   "source": [
    "%%timeit\n",
    "900 in list_members"
   ]
  },
  {
   "cell_type": "markdown",
   "metadata": {},
   "source": [
    "### Exercise - getting the unique elements from a list"
   ]
  },
  {
   "cell_type": "code",
   "execution_count": null,
   "metadata": {
    "collapsed": false,
    "jupyter": {
     "outputs_hidden": false
    }
   },
   "outputs": [],
   "source": [
    "# How to make items in a list unique?\n",
    "cakes = [\"cheesecake\", \"raspberry pi\", \"cheesecake\", \"strawberry pie\"]"
   ]
  },
  {
   "cell_type": "code",
   "execution_count": null,
   "metadata": {
    "cell_type": "solution"
   },
   "outputs": [],
   "source": [
    "# Note that will destroy the order, as sets are unordered!\n",
    "list(set(cakes))"
   ]
  },
  {
   "cell_type": "markdown",
   "metadata": {
    "id": "xqUIGfeBG_g5"
   },
   "source": [
    "# Control Flow\n",
    "\n",
    "\n",
    "A Programmers Control Flow is the order in which the Program code executes. \n",
    "\n",
    "it mainly consist of \n",
    " - Conditional statements (if, elif, nested elif) \n",
    " - for loops\n",
    " - while loops\n",
    " \n"
   ]
  },
  {
   "cell_type": "markdown",
   "metadata": {
    "id": "A8VR629LKVbF"
   },
   "source": [
    "### Conditional statements\n",
    "Usual Mathematical Logical Conditions can be are supported in python. \n",
    "\n",
    " - **Equals:** a == b\n",
    " - **Not Equals:** a != b\n",
    " - **Less than:** a < b\n",
    " - **Less than or equal to:** a <= b\n",
    " - **Greater than:** a > b\n",
    " - **Greater than or equal to:** a >= b"
   ]
  },
  {
   "cell_type": "code",
   "execution_count": null,
   "metadata": {
    "id": "FWSS5nKtKUZ9"
   },
   "outputs": [],
   "source": [
    "# play around with the value of a to see how this conditional behaves\n",
    "a = 9 \n",
    "\n",
    "\n",
    "# here you can see whitespace indentation for the first time\n",
    "# Python indentation is a way of telling a Python interpreter that \n",
    "# the group of statements belongs to a particular block of code\n",
    "\n",
    "if a < 8:\n",
    "    print(\"a is less than 8!\") # here you can see whitespace indentation for the first time\n",
    "elif a == 8:\n",
    "    print(\"a is equal to 8!\")\n",
    "elif a == 9 or a == 10:\n",
    "    print(\"a is equal to 8 or 9!\")\n",
    "elif a > 8:\n",
    "    print(\"a is greater than 10!\")\n",
    "else:\n",
    "    print(\"This will never be executed.\")"
   ]
  },
  {
   "cell_type": "markdown",
   "metadata": {
    "id": "j2lw6q-wMVdu"
   },
   "source": [
    "Note: there are no switch statements in python but there are... "
   ]
  },
  {
   "cell_type": "code",
   "execution_count": null,
   "metadata": {
    "id": "fzaLVOe-HD_W"
   },
   "outputs": [],
   "source": [
    "\n",
    "command = \"nuke\"\n",
    "\n",
    "\n",
    "if command == \"attack\":\n",
    "    print(\"prepraing to launch attack\")\n",
    "\n",
    "elif command == \"defend\":\n",
    "    print(\"launching defensive forces\")\n",
    "\n",
    "elif command == \"withdraw\":\n",
    "    print(\"preparing to withdraw forces\")\n",
    "    \n",
    "else:\n",
    "    print(\"Not a valid option!\")"
   ]
  },
  {
   "cell_type": "markdown",
   "metadata": {
    "id": "9wG4JB-2Ngib"
   },
   "source": [
    "### While Loop\n",
    "\n",
    "With the while loop we can execute a set of statements as long as a condition is true.\n"
   ]
  },
  {
   "cell_type": "code",
   "execution_count": null,
   "metadata": {
    "id": "mcSksu35NjHV"
   },
   "outputs": [],
   "source": [
    "ects = 0\n",
    "while ects < 120:\n",
    "\n",
    "    print(ects ,  \" ---> not enough ects to graduate\")\n",
    "    ects += 24"
   ]
  },
  {
   "cell_type": "markdown",
   "metadata": {
    "id": "qK-7kW8iOsvk"
   },
   "source": [
    "`break` and `continue` statements in while loops\n",
    "\n",
    " - With the `break` statement we can stop the loop even if the while condition is true:\n",
    " - With the `continue` statement we can stop the current iteration, and continue with the next: "
   ]
  },
  {
   "cell_type": "code",
   "execution_count": null,
   "metadata": {
    "id": "kIFx9jKsO1pT"
   },
   "outputs": [],
   "source": [
    "\n",
    "ects = 0\n",
    "while ects < 140:\n",
    "\n",
    "    print(ects ,  \" ---> not enough ects to graduate\")\n",
    "    if ects == 96:\n",
    "        print(ects ,  \" ---> Note: Masters Student, Congrats you graduated\")\n",
    "        break\n",
    "\n",
    "  \n",
    "    ects += 24"
   ]
  },
  {
   "cell_type": "code",
   "execution_count": null,
   "metadata": {
    "id": "NBA9r-vRXS51"
   },
   "outputs": [],
   "source": [
    "i = 0\n",
    "while i < 6:\n",
    "    \n",
    "    i += 1\n",
    "    if i == 3:\n",
    "        continue\n",
    "    print(i)\n",
    "  \n",
    "  "
   ]
  },
  {
   "cell_type": "markdown",
   "metadata": {
    "id": "N8igRSg4bZtj"
   },
   "source": [
    "### For Loops\n",
    "A for loop is used for iterating over a sequence (that is either a list, a tuple, a dictionary, a set, or a string)."
   ]
  },
  {
   "cell_type": "code",
   "execution_count": null,
   "metadata": {
    "id": "AuiUPPCLXyk6"
   },
   "outputs": [],
   "source": [
    "numbers = [1, 2, 3, 4]\n",
    "\n",
    "for i in numbers:\n",
    "    print(i)"
   ]
  },
  {
   "cell_type": "markdown",
   "metadata": {
    "id": "vQuFerTchZLY"
   },
   "source": [
    "the same code can be writen like following ways as well\n"
   ]
  },
  {
   "cell_type": "code",
   "execution_count": null,
   "metadata": {
    "id": "deVRAvJ0hYWh"
   },
   "outputs": [],
   "source": [
    "for i in [1,2,3,4]:\n",
    "    print(i)"
   ]
  },
  {
   "cell_type": "code",
   "execution_count": null,
   "metadata": {
    "id": "OqPZfWaNhmvW"
   },
   "outputs": [],
   "source": [
    "for i in \"SciPy\":\n",
    "    print(i)"
   ]
  },
  {
   "cell_type": "markdown",
   "metadata": {
    "id": "vNXDbyx1ssfA"
   },
   "source": [
    "for loop can be also used to `zip` multiple variables together"
   ]
  },
  {
   "cell_type": "code",
   "execution_count": null,
   "metadata": {
    "id": "ZDSSRMdnssmX"
   },
   "outputs": [],
   "source": [
    "names = ['paula', 'marcel', 'marine']\n",
    "ages = [20, 22, 19]\n",
    "countries = [\"France\", \"Germany\", \"Chile\"]  \n",
    "for name, age,  country in zip(names, ages, countries):\n",
    "    print(name, \"is\", age, \"years old and from\",  country)"
   ]
  },
  {
   "cell_type": "markdown",
   "metadata": {
    "id": "x9folvw42B2T"
   },
   "source": [
    "with pythons build in fucntion `range()` you can create a sequence\n",
    "\n",
    "it is also helpful for loop iterations \n",
    "\n",
    "syntx-   range(start, stop, step )"
   ]
  },
  {
   "cell_type": "code",
   "execution_count": null,
   "metadata": {
    "id": "CpfUEOR93dNh"
   },
   "outputs": [],
   "source": [
    "for a in range(0,25,5):\n",
    "    print(a)"
   ]
  },
  {
   "cell_type": "markdown",
   "metadata": {
    "id": "IGzMEXlZiPfN"
   },
   "source": [
    "# Writing Functions\n",
    "\n",
    "A function is a block of code which runs only when it is called. \n",
    "\n",
    "You can pass data, known as parameters, into a function.\n",
    "\n",
    "A function can return data as a result.\n",
    "\n",
    "\n",
    "In Python, you have to use the keyword `def` to define a function. "
   ]
  },
  {
   "cell_type": "code",
   "execution_count": null,
   "metadata": {
    "id": "0wJC-kT2izbP"
   },
   "outputs": [],
   "source": [
    "# we are creating a function here\n",
    "def my_function():\n",
    "    print(\"this is my first function\")\n",
    "\n"
   ]
  },
  {
   "cell_type": "code",
   "execution_count": null,
   "metadata": {
    "id": "qTbMtQHiYNLM"
   },
   "outputs": [],
   "source": [
    "# this is the function call\n",
    "my_function()"
   ]
  },
  {
   "cell_type": "markdown",
   "metadata": {
    "id": "y3_l6ekXjXtX"
   },
   "source": [
    "we can pass different data in the same function from different calls. \n"
   ]
  },
  {
   "cell_type": "code",
   "execution_count": null,
   "metadata": {
    "id": "OlRB42ptjhAA"
   },
   "outputs": [],
   "source": [
    "def send_email(name):\n",
    "    print(\"sending email to \" + name)\n",
    "\n",
    "\n",
    "send_email(\"Guido van Rossum\")\n",
    "send_email(\"Elon Mask\")\n",
    "send_email(\"Putin\")\n",
    "\n"
   ]
  },
  {
   "cell_type": "markdown",
   "metadata": {
    "id": "J2YwKXdSkoPT"
   },
   "source": [
    "You can pass arguments in your fiunction. By default your function must pass the defined number of parameter while calling them"
   ]
  },
  {
   "cell_type": "code",
   "execution_count": null,
   "metadata": {
    "id": "CZRJfbRKkw4G"
   },
   "outputs": [],
   "source": [
    "def feed_the_homeless(main_course, drink, desert):\n",
    "    print(\"todays menu: \")\n",
    "    print(main_course)\n",
    "    print(drink)\n",
    "    print(desert)\n",
    "\n",
    "\n",
    "feed_the_homeless(\"pizza\", \"cola\" , \"pudding\")"
   ]
  },
  {
   "cell_type": "markdown",
   "metadata": {
    "id": "6nBqDRZrmfE1"
   },
   "source": [
    "you can pre define values in the function. they are called default arguments and must be decladed after non-default(the argumnets user must pass). \n",
    "\n"
   ]
  },
  {
   "cell_type": "code",
   "execution_count": null,
   "metadata": {
    "id": "yVwo9jNMmedK"
   },
   "outputs": [],
   "source": [
    "def feed_the_homeless(drink, desert, main_course = \"Soup\"):\n",
    "\n",
    "    print(\"todays menu: \")\n",
    "    print(main_course)\n",
    "    print(drink)\n",
    "    print(desert)\n",
    "\n",
    "\n",
    "feed_the_homeless(\"cola\" , \"pudding\")"
   ]
  },
  {
   "cell_type": "markdown",
   "metadata": {
    "id": "iHg1tRK4nS-L"
   },
   "source": [
    "default arfument can be aslo replaced. \n",
    "\n",
    "Default arguments must follow non_default arguments\n"
   ]
  },
  {
   "cell_type": "code",
   "execution_count": null,
   "metadata": {
    "id": "tdRpU0_6nPxw"
   },
   "outputs": [],
   "source": [
    "def feed_the_homeless(drink, desert, main_course = \"Soup\"):\n",
    "\n",
    "    print(\"todays menu:\")\n",
    "    print(main_course)\n",
    "    print(drink)\n",
    "    print(desert)\n",
    "\n",
    "\n",
    "feed_the_homeless(\"cola\" , \"pudding\",main_course = \"pizzza\")"
   ]
  },
  {
   "cell_type": "markdown",
   "metadata": {
    "id": "Ke2QH52NpQ0v"
   },
   "source": [
    "if the name of the parameters are defined then it can be writen in any order from **\"function call\"**"
   ]
  },
  {
   "cell_type": "code",
   "execution_count": null,
   "metadata": {
    "id": "18LEebFPpPTm"
   },
   "outputs": [],
   "source": [
    "feed_the_homeless(drink = \"cola\", main_course = \"pizzza\", desert = \"pudding\")"
   ]
  },
  {
   "cell_type": "markdown",
   "metadata": {
    "id": "IyZ7MQ4it7Dr",
    "tags": []
   },
   "source": [
    "# Classes\n",
    "As one of Pythons many paradigms is that of **object-orientation**, it is of course possible to implement classes. In fact, every single built-in class works the same way, and they all work the same under the hood - which also means, one can get any built-in methods to work on custom classes, just as much as on built-in classes."
   ]
  },
  {
   "cell_type": "code",
   "execution_count": null,
   "metadata": {
    "id": "BpzqpWbCnOH8"
   },
   "outputs": [],
   "source": [
    "class MyClass:\n",
    "    \"\"\"This class doesn't have much purpose and serves demonstration\"\"\"\n",
    "    pass # pass is used if Python wants there to be another line (because of indents), but you don't have any more content!"
   ]
  },
  {
   "cell_type": "code",
   "execution_count": null,
   "metadata": {
    "colab": {
     "base_uri": "https://localhost:8080/"
    },
    "id": "S738sMQSe-1v",
    "outputId": "f75fcb09-dc66-4471-a46d-a74d47522405"
   },
   "outputs": [
    {
     "data": {
      "text/plain": [
       "__main__.MyClass"
      ]
     },
     "execution_count": 13,
     "metadata": {},
     "output_type": "execute_result"
    }
   ],
   "source": [
    "my_instance = MyClass()\n",
    "type(my_instance)"
   ]
  },
  {
   "cell_type": "code",
   "execution_count": null,
   "metadata": {
    "colab": {
     "base_uri": "https://localhost:8080/"
    },
    "id": "43oeraIQfCT4",
    "outputId": "9ee2fb8e-8d67-470a-f87c-f35b6a4aa509"
   },
   "outputs": [
    {
     "name": "stdout",
     "output_type": "stream",
     "text": [
      "True\n"
     ]
    }
   ],
   "source": [
    "# To check if something is an instance of a class (or the ones that inherit from it), use isinstance!\n",
    "print(isinstance(my_instance, MyClass))"
   ]
  },
  {
   "cell_type": "code",
   "execution_count": null,
   "metadata": {
    "id": "MM__snt3fEmz",
    "outputId": "214d05f5-6bdc-46c9-c88e-875e02cc1a7e"
   },
   "outputs": [
    {
     "data": {
      "text/plain": [
       "\u001b[1;31mType:\u001b[0m        MyClass\n",
       "\u001b[1;31mString form:\u001b[0m <__main__.MyClass object at 0x0000019E3C9CA430>\n",
       "\u001b[1;31mDocstring:\u001b[0m   This class doesn't have much purpose and serves demonstration\n"
      ]
     },
     "metadata": {},
     "output_type": "display_data"
    }
   ],
   "source": [
    "my_instance?"
   ]
  },
  {
   "cell_type": "markdown",
   "metadata": {
    "id": "pR3EkpIVe9F5"
   },
   "source": [
    "## Methods and Attributes\n",
    "Custom classes can have custom methods and attributes. If no constructor is explicitly specified, the one of its parent-class will be used instead. Otherwise, a constructor must be defined with the method `__init__`. A destructor is usually not needed as Python manages memory automatically.\n",
    "\n",
    "All instance-variables must be defined in instance-methods and must be referenced from `self`. All variables that are not defined in instance-methods are class-variables!\n",
    "\n",
    "`self` is a reference to the object it*self*! It is the equivalent of `this` in many other programming languages."
   ]
  },
  {
   "cell_type": "code",
   "execution_count": null,
   "metadata": {
    "colab": {
     "base_uri": "https://localhost:8080/"
    },
    "id": "51ZIus5Ft6Kg",
    "outputId": "5171dec2-2777-4c0c-ed98-528e3a70e739"
   },
   "outputs": [
    {
     "name": "stdout",
     "output_type": "stream",
     "text": [
      "<__main__.MyClass2 object at 0x0000019E3C9CAAF0>\n",
      "<class '__main__.MyClass2'>\n"
     ]
    }
   ],
   "source": [
    "class MyClass2:\n",
    "    \"\"\"This class also doesn't have much purpose and serves demonstration.\"\"\"\n",
    "    def __init__(self):\n",
    "        print(self)\n",
    "        print(type(self))\n",
    "        \n",
    "my_second_instance = MyClass2()"
   ]
  },
  {
   "cell_type": "code",
   "execution_count": null,
   "metadata": {
    "colab": {
     "base_uri": "https://localhost:8080/"
    },
    "id": "im2bg_P_fiV4",
    "outputId": "29d2a3d9-6239-464e-d099-fffe2ab3cc2e"
   },
   "outputs": [
    {
     "data": {
      "text/plain": [
       "(2, 3)"
      ]
     },
     "execution_count": 17,
     "metadata": {},
     "output_type": "execute_result"
    }
   ],
   "source": [
    "class MyClass3:\n",
    "    \"\"\"This class also doesn't have much purpose and serves demonstration.\"\"\"\n",
    "    def __init__(self, number):\n",
    "        self.number = number\n",
    "        \n",
    "    def change_number(self, newval):\n",
    "        self.number = newval\n",
    "        \n",
    "        \n",
    "b = MyClass3(2)\n",
    "c = MyClass3(3)\n",
    "\n",
    "b.number, c.number"
   ]
  },
  {
   "cell_type": "code",
   "execution_count": null,
   "metadata": {
    "colab": {
     "base_uri": "https://localhost:8080/",
     "height": 35
    },
    "id": "Qj9o2Ej2fl1S",
    "outputId": "edd63f17-b3ec-4d7f-9fcb-3a9971aa0066"
   },
   "outputs": [
    {
     "data": {
      "text/plain": [
       "'new value'"
      ]
     },
     "execution_count": 18,
     "metadata": {},
     "output_type": "execute_result"
    }
   ],
   "source": [
    "b.change_number(\"new value\")\n",
    "b.number"
   ]
  },
  {
   "cell_type": "markdown",
   "metadata": {
    "id": "RIoQ5E6o1kW0"
   },
   "source": [
    "# Inheritance\n",
    "\n",
    "Being Object-Oriented, Python of course understands inheritance"
   ]
  },
  {
   "cell_type": "code",
   "execution_count": null,
   "metadata": {
    "colab": {
     "base_uri": "https://localhost:8080/"
    },
    "id": "6UHtp4RC1ozt",
    "outputId": "18402878-c540-4b8e-af1c-c9f77b555046"
   },
   "outputs": [
    {
     "name": "stdout",
     "output_type": "stream",
     "text": [
      "<class '__main__.LandAnimal'>\n",
      "True\n",
      "True\n"
     ]
    }
   ],
   "source": [
    "class Animal:\n",
    "    def is_living():\n",
    "        return True\n",
    "\n",
    "    \n",
    "class LandAnimal(Animal):\n",
    "    def __init__(self):\n",
    "        self.has_legs = True\n",
    "        \n",
    "    def walk(self):\n",
    "        return \"tap tap\"\n",
    "    \n",
    "animal = LandAnimal()\n",
    "    \n",
    "    \n",
    "print(type(animal))\n",
    "print(isinstance(animal, LandAnimal))\n",
    "print(isinstance(animal, Animal))"
   ]
  },
  {
   "cell_type": "code",
   "execution_count": null,
   "metadata": {
    "id": "kbLJmzivYNLW",
    "outputId": "014cd39a-049f-4197-e2c6-fef84d3f4f5a"
   },
   "outputs": [
    {
     "data": {
      "text/plain": [
       "<bound method Animal.is_living of <__main__.LandAnimal object at 0x0000019E3C9155B0>>"
      ]
     },
     "execution_count": 10,
     "metadata": {},
     "output_type": "execute_result"
    }
   ],
   "source": [
    "animal.is_living"
   ]
  },
  {
   "cell_type": "code",
   "execution_count": null,
   "metadata": {
    "colab": {
     "base_uri": "https://localhost:8080/"
    },
    "id": "VLt8Tz8t1rck",
    "outputId": "00474914-e61f-4974-9b41-8b67edde8aa7"
   },
   "outputs": [
    {
     "data": {
      "text/plain": [
       "True"
      ]
     },
     "execution_count": 6,
     "metadata": {},
     "output_type": "execute_result"
    }
   ],
   "source": [
    "animal.has_legs"
   ]
  },
  {
   "cell_type": "code",
   "execution_count": null,
   "metadata": {
    "id": "80DYYyxIYNLY",
    "outputId": "eab586fa-5d03-41f6-8255-f9ac26a18e5c"
   },
   "outputs": [
    {
     "data": {
      "text/plain": [
       "'tap tap'"
      ]
     },
     "execution_count": 9,
     "metadata": {},
     "output_type": "execute_result"
    }
   ],
   "source": [
    "animal.walk()"
   ]
  }
 ],
 "metadata": {
  "kernelspec": {
   "display_name": "Python 3 (ipykernel)",
   "language": "python",
   "name": "python3"
  },
  "language_info": {
   "codemirror_mode": {
    "name": "ipython",
    "version": 3
   },
   "file_extension": ".py",
   "mimetype": "text/x-python",
   "name": "python",
   "nbconvert_exporter": "python",
   "pygments_lexer": "ipython3",
   "version": "3.8.8"
  },
  "toc-autonumbering": true,
  "toc-showtags": false
 },
 "nbformat": 4,
 "nbformat_minor": 4
}
